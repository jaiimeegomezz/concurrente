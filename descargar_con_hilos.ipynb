{
 "cells": [
  {
   "cell_type": "code",
   "execution_count": 12,
   "id": "12699055-b3fe-4189-be89-e9404b952a53",
   "metadata": {},
   "outputs": [],
   "source": [
    "import time, urllib.request , multiprocessing as mp , concurrent.futures "
   ]
  },
  {
   "cell_type": "code",
   "execution_count": 3,
   "id": "42e40e30-56c7-43e5-8c10-a79d4848ac0d",
   "metadata": {},
   "outputs": [],
   "source": [
    "def seq_download_images(img_numbers):\n",
    "    total_bytes = 0\n",
    "    for num in img_numbers:\n",
    "        total_bytes += _download_image(num)\n",
    "        return total_bytes"
   ]
  },
  {
   "cell_type": "code",
   "execution_count": 5,
   "id": "d287ab0e-851f-4617-90bf-e3637c60063a",
   "metadata": {},
   "outputs": [],
   "source": [
    "def _download_image(image_number):\n",
    "    print(image_number)\n",
    "    image_url = 'https://699340.youcanlearnit.net/image{:03d}.jpg'.format(image_number)\n",
    "    try:\n",
    "        with urllib.request.urlopen(image_url, timeout=60) as conn:\n",
    "            return len (conn.read())\n",
    "    except urllib.error.HTTPError:\n",
    "            print('Oh god' , image_number)\n",
    "    except Exception as e:\n",
    "                print(e)\n",
    "    "
   ]
  },
  {
   "cell_type": "code",
   "execution_count": 6,
   "id": "828c818e-73ff-4fd5-93d0-91c806666b05",
   "metadata": {},
   "outputs": [],
   "source": [
    "def par_download_images (images_number):\n",
    "    total_bytes = 0\n",
    "    with concurrent.futures.ThreadPoolExecutor() as pool:\n",
    "        futures = [pool.submit(_download_image, num) for num in images_number]\n",
    "        for f in concurrent.futures.as_completed(futures):\n",
    "            total_bytes += f.result()\n",
    "            return total_bytes\n"
   ]
  },
  {
   "cell_type": "code",
   "execution_count": 21,
   "id": "713d3d6b-438a-4369-85e4-c38ab4232201",
   "metadata": {},
   "outputs": [
    {
     "name": "stdout",
     "output_type": "stream",
     "text": [
      "1\n",
      "0\n",
      "1\n",
      "1\n",
      "1\n",
      "2\n",
      "1\n",
      "12\n",
      "3\n",
      "\n",
      "12\n",
      "\n",
      "3\n",
      "12\n",
      "\n",
      "3\n",
      "12\n",
      "\n",
      "3\n",
      "Average Sequential Time: 1339.38 ms\n",
      "Average Pararell Time:1529.04 ms \n",
      "Speedup: 0.88\n",
      "Efficiency: 5.47%\n"
     ]
    }
   ],
   "source": [
    "if __name__ == '__main__':\n",
    "    NUM_EVAL_RUNS = 3\n",
    "    IMAGE_NUMBERS = list(range(1,4))\n",
    "    sequential_result = seq_download_images (IMAGE_NUMBERS)\n",
    "    sequential_time = 0\n",
    "    for i in range (NUM_EVAL_RUNS):\n",
    "        print (i)\n",
    "        start = time.perf_counter()\n",
    "        seq_download_images(IMAGE_NUMBERS)\n",
    "        sequential_time += time.perf_counter () - start\n",
    "    sequential_time /= NUM_EVAL_RUNS\n",
    "    pararell_result = par_download_images(IMAGE_NUMBERS)\n",
    "    pararell_time = 0\n",
    "    for i in range (NUM_EVAL_RUNS):\n",
    "        start = time.perf_counter()\n",
    "        par_download_images(IMAGE_NUMBERS)\n",
    "        pararell_time += time.perf_counter() - start\n",
    "    pararell_time /= NUM_EVAL_RUNS\n",
    "    \n",
    "    if sequential_result != pararell_result:\n",
    "        raise Exception ('sequential_result and pararell_result do not match.' )\n",
    "    print ('Average Sequential Time: {:.2f} ms'.format(sequential_time*1000))\n",
    "    print ('Average Pararell Time:{:.2f} ms '.format(pararell_time*1000))\n",
    "    print ('Speedup: {:.2f}' .format(sequential_time/pararell_time))\n",
    "    print ('Efficiency: {:.2f}%'.format(100*(sequential_time/pararell_time) /mp.cpu_count()))\n",
    "        "
   ]
  },
  {
   "cell_type": "code",
   "execution_count": null,
   "id": "f18f63d6-45fa-452b-bf78-9b8e844ddbf6",
   "metadata": {},
   "outputs": [],
   "source": []
  }
 ],
 "metadata": {
  "kernelspec": {
   "display_name": "Python 3 (ipykernel)",
   "language": "python",
   "name": "python3"
  },
  "language_info": {
   "codemirror_mode": {
    "name": "ipython",
    "version": 3
   },
   "file_extension": ".py",
   "mimetype": "text/x-python",
   "name": "python",
   "nbconvert_exporter": "python",
   "pygments_lexer": "ipython3",
   "version": "3.10.7"
  }
 },
 "nbformat": 4,
 "nbformat_minor": 5
}

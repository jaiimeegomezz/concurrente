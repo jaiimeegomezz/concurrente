{
 "cells": [
  {
   "cell_type": "code",
   "execution_count": 20,
   "id": "ea8e68f8-d6e7-4330-ad7a-2e84f8e41747",
   "metadata": {},
   "outputs": [
    {
     "name": "stdin",
     "output_type": "stream",
     "text": [
      "Ingresa tu nickname:  jaiimeegomezz\n"
     ]
    }
   ],
   "source": [
    "with open(\"ue22191500.txt\", 'a') as f:\n",
    "        nick=input (\"Ingresa tu nickname: \")\n",
    "        f.write(nick)"
   ]
  },
  {
   "cell_type": "code",
   "execution_count": 21,
   "id": "492022ed-9172-4a27-a77b-ebbda91aa590",
   "metadata": {},
   "outputs": [
    {
     "name": "stderr",
     "output_type": "stream",
     "text": [
      "\"ls\" no se reconoce como un comando interno o externo,\n",
      "programa o archivo por lotes ejecutable.\n"
     ]
    }
   ],
   "source": [
    "!ls ue22191500.txt"
   ]
  },
  {
   "cell_type": "markdown",
   "id": "b46a86ad-6341-4a48-b3ba-06d4cbb292af",
   "metadata": {},
   "source": [
    "## Modos de creae a file\n",
    "# append\n",
    "# read\n",
    "# write\n",
    "# create"
   ]
  },
  {
   "cell_type": "code",
   "execution_count": 22,
   "id": "f305fc2e-0d36-4c51-92f2-0255eeb52b76",
   "metadata": {},
   "outputs": [],
   "source": [
    "import socket as sc"
   ]
  },
  {
   "cell_type": "code",
   "execution_count": 24,
   "id": "d037848e-52ef-4ca3-bb9c-415a70b8a4d9",
   "metadata": {},
   "outputs": [],
   "source": [
    "s = sc.socket"
   ]
  },
  {
   "cell_type": "code",
   "execution_count": 27,
   "id": "85526fe3-8831-4720-9f81-eccba155c7fd",
   "metadata": {},
   "outputs": [
    {
     "data": {
      "text/plain": [
       "('MSI', [], ['192.168.253.1', '192.168.91.1', '10.34.81.170'])"
      ]
     },
     "execution_count": 27,
     "metadata": {},
     "output_type": "execute_result"
    }
   ],
   "source": [
    "sc.gethostbyname_ex(sc.gethostname())"
   ]
  },
  {
   "cell_type": "code",
   "execution_count": 28,
   "id": "b72ba6a2-3225-49a0-8199-e4b405778ce6",
   "metadata": {},
   "outputs": [
    {
     "ename": "NameError",
     "evalue": "name 'host' is not defined",
     "output_type": "error",
     "traceback": [
      "\u001b[1;31m---------------------------------------------------------------------------\u001b[0m",
      "\u001b[1;31mNameError\u001b[0m                                 Traceback (most recent call last)",
      "Cell \u001b[1;32mIn [28], line 1\u001b[0m\n\u001b[1;32m----> 1\u001b[0m s\u001b[38;5;241m.\u001b[39mbind((\u001b[43mhost\u001b[49m, port))\n",
      "\u001b[1;31mNameError\u001b[0m: name 'host' is not defined"
     ]
    }
   ],
   "source": [
    "s.bind((host, port))"
   ]
  },
  {
   "cell_type": "code",
   "execution_count": null,
   "id": "1230072a-ac07-4ea6-a2b8-2e7283e85b3a",
   "metadata": {},
   "outputs": [],
   "source": []
  },
  {
   "cell_type": "code",
   "execution_count": null,
   "id": "df9e98dd-badd-451a-aeb1-43498a469237",
   "metadata": {},
   "outputs": [],
   "source": []
  },
  {
   "cell_type": "code",
   "execution_count": null,
   "id": "ad773179-17e6-4a55-bf9b-f447a325fb90",
   "metadata": {},
   "outputs": [],
   "source": []
  }
 ],
 "metadata": {
  "kernelspec": {
   "display_name": "Python 3 (ipykernel)",
   "language": "python",
   "name": "python3"
  },
  "language_info": {
   "codemirror_mode": {
    "name": "ipython",
    "version": 3
   },
   "file_extension": ".py",
   "mimetype": "text/x-python",
   "name": "python",
   "nbconvert_exporter": "python",
   "pygments_lexer": "ipython3",
   "version": "3.10.7"
  }
 },
 "nbformat": 4,
 "nbformat_minor": 5
}

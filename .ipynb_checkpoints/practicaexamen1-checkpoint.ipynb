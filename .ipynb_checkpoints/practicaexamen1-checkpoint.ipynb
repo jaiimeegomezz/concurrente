{
 "cells": [
  {
   "cell_type": "code",
   "execution_count": 1,
   "id": "1e0b23c2-87e6-4edc-8f05-6a93570fde9d",
   "metadata": {},
   "outputs": [],
   "source": [
    "import threading, os, platform, requests, json"
   ]
  },
  {
   "cell_type": "code",
   "execution_count": 2,
   "id": "6a09216d-0ff1-472a-9992-bbf3ca5bdd0d",
   "metadata": {},
   "outputs": [],
   "source": [
    "matar_a_mi_compañero = 100"
   ]
  },
  {
   "cell_type": "code",
   "execution_count": 28,
   "id": "906af5ac-2506-4851-941d-390b14a22fc9",
   "metadata": {},
   "outputs": [],
   "source": [
    "url_= \"https://github.com/Norttonnn\""
   ]
  },
  {
   "cell_type": "code",
   "execution_count": 29,
   "id": "3999bec3-abc2-4dd6-9edb-44d563d9599c",
   "metadata": {},
   "outputs": [],
   "source": [
    "def matar_amigo():\n",
    "    print(requests.get(url_))\n",
    "    threading.current_thread()"
   ]
  },
  {
   "cell_type": "code",
   "execution_count": 30,
   "id": "cb7a04ca-6690-408d-8ae1-38eedb800b16",
   "metadata": {},
   "outputs": [
    {
     "name": "stdout",
     "output_type": "stream",
     "text": [
      "<Response [200]>\n",
      "<Response [200]>\n",
      "<Response [200]>\n",
      "<Response [200]>\n",
      "<Response [200]>\n",
      "<Response [200]>\n",
      "<Response [200]>\n",
      "<Response [200]>\n",
      "<Response [200]>\n",
      "<Response [200]>\n",
      "<Response [200]>\n",
      "<Response [200]>\n",
      "<Response [200]>\n",
      "<Response [200]>\n",
      "<Response [200]>\n",
      "<Response [200]>\n",
      "<Response [200]>\n",
      "<Response [200]>\n",
      "<Response [200]>\n",
      "<Response [200]>\n",
      "<Response [200]>\n",
      "<Response [200]>\n",
      "<Response [200]>\n",
      "<Response [200]>\n",
      "<Response [200]>\n",
      "<Response [200]>\n",
      "<Response [200]>\n",
      "<Response [200]>\n",
      "<Response [200]>\n",
      "<Response [200]>\n",
      "<Response [200]>\n",
      "<Response [200]>\n",
      "<Response [200]>\n",
      "<Response [200]>\n",
      "<Response [200]>\n",
      "<Response [200]>\n",
      "<Response [200]>\n",
      "<Response [200]>\n",
      "<Response [200]>\n",
      "<Response [200]>\n",
      "<Response [200]>\n",
      "<Response [200]>\n",
      "<Response [200]>\n",
      "<Response [200]>\n",
      "<Response [200]>\n",
      "<Response [200]>\n",
      "<Response [200]>\n",
      "<Response [200]>\n",
      "<Response [200]>\n",
      "<Response [200]>\n",
      "<Response [200]>\n",
      "<Response [200]>\n",
      "<Response [200]>\n",
      "<Response [200]>\n",
      "<Response [200]>\n",
      "<Response [200]>\n",
      "<Response [200]>\n",
      "<Response [200]>\n",
      "<Response [200]>\n",
      "<Response [200]>\n",
      "<Response [200]>\n",
      "<Response [200]>\n",
      "<Response [200]>\n",
      "<Response [200]>\n",
      "<Response [200]>\n",
      "<Response [200]>\n",
      "<Response [200]>\n",
      "<Response [200]>\n",
      "<Response [200]>\n",
      "<Response [200]>\n",
      "<Response [200]>\n",
      "<Response [200]>\n",
      "<Response [200]>\n",
      "<Response [200]>\n",
      "<Response [200]>\n",
      "<Response [200]>\n",
      "<Response [200]>\n",
      "<Response [200]>\n",
      "<Response [200]>\n",
      "<Response [200]>\n",
      "<Response [200]>\n",
      "<Response [200]>\n",
      "<Response [200]>\n",
      "<Response [200]>\n",
      "<Response [200]>\n",
      "<Response [200]>\n",
      "<Response [200]>\n",
      "<Response [200]>\n",
      "<Response [200]>\n",
      "<Response [200]>\n",
      "<Response [200]>\n",
      "<Response [200]>\n",
      "<Response [200]>\n",
      "<Response [200]>\n",
      "<Response [200]>\n",
      "<Response [200]>\n",
      "<Response [200]>\n",
      "<Response [200]>\n",
      "<Response [200]>\n",
      "<Response [200]>\n"
     ]
    }
   ],
   "source": [
    "for i in range(matar_a_mi_compañero):\n",
    "    threading.Thread(target=matar_amigo()).start()"
   ]
  },
  {
   "cell_type": "code",
   "execution_count": 31,
   "id": "d1a1fb22-c0bb-44ba-8bd8-f5476d052f8b",
   "metadata": {},
   "outputs": [],
   "source": [
    "res_=requests.get( \"https://github.com/Norttonnn\")"
   ]
  },
  {
   "cell_type": "code",
   "execution_count": 32,
   "id": "f10123ef-631d-4186-be6f-911d15598b5c",
   "metadata": {},
   "outputs": [
    {
     "data": {
      "text/plain": [
       "{'Server': 'GitHub.com', 'Date': 'Thu, 13 Oct 2022 14:29:39 GMT', 'Content-Type': 'text/html; charset=utf-8', 'Vary': 'X-Requested-With, X-PJAX-Container, Turbo-Frame, Turbo-Visit, Accept-Encoding, Accept, X-Requested-With', 'ETag': 'W/\"7114a3707629d4e1929976e698388cb1\"', 'Cache-Control': 'max-age=0, private, must-revalidate', 'Strict-Transport-Security': 'max-age=31536000; includeSubdomains; preload', 'X-Frame-Options': 'deny', 'X-Content-Type-Options': 'nosniff', 'X-XSS-Protection': '0', 'Referrer-Policy': 'origin-when-cross-origin, strict-origin-when-cross-origin', 'Expect-CT': 'max-age=2592000, report-uri=\"https://api.github.com/_private/browser/errors\"', 'Content-Security-Policy': \"default-src 'none'; base-uri 'self'; block-all-mixed-content; child-src github.com/assets-cdn/worker/ gist.github.com/assets-cdn/worker/; connect-src 'self' uploads.github.com objects-origin.githubusercontent.com www.githubstatus.com collector.github.com raw.githubusercontent.com api.github.com github-cloud.s3.amazonaws.com github-production-repository-file-5c1aeb.s3.amazonaws.com github-production-upload-manifest-file-7fdce7.s3.amazonaws.com github-production-user-asset-6210df.s3.amazonaws.com cdn.optimizely.com logx.optimizely.com/v1/events *.actions.githubusercontent.com wss://*.actions.githubusercontent.com online.visualstudio.com/api/v1/locations github-production-repository-image-32fea6.s3.amazonaws.com github-production-release-asset-2e65be.s3.amazonaws.com insights.github.com wss://alive.github.com; font-src github.githubassets.com; form-action 'self' github.com gist.github.com objects-origin.githubusercontent.com; frame-ancestors 'none'; frame-src viewscreen.githubusercontent.com notebooks.githubusercontent.com; img-src 'self' data: github.githubassets.com identicons.github.com github-cloud.s3.amazonaws.com secured-user-images.githubusercontent.com/ github-production-user-asset-6210df.s3.amazonaws.com customer-stories-feed.github.com spotlights-feed.github.com *.githubusercontent.com; manifest-src 'self'; media-src github.com user-images.githubusercontent.com/ secured-user-images.githubusercontent.com/; script-src github.githubassets.com; style-src 'unsafe-inline' github.githubassets.com; worker-src github.com/assets-cdn/worker/ gist.github.com/assets-cdn/worker/\", 'Content-Encoding': 'gzip', 'Set-Cookie': '_gh_sess=3sIHt0FE07W7CKV6ZFtpOwRIFFLU6WE5PkwxgyB4ydH6M8NojnMqSHK2tatAXdy3BKF4B%2Bro5ivVaPcqzxWyoICvCSXyMJaWNolnTp1Ah9mTp4HszjbVQJwqNYQpQYVnKABfO5xVmniWrQC%2BxbXCZf7DkOBzR0W%2FJmIABR72l8d2ZsiuJ4jmNj18HzISruhcsm8EUjoqy%2FS%2FP9DOiMSk4Y9PAM%2FtyyO4fLQVklDH9GjyHDPYQ9j3cJZ8BHPNTN6k3H2HiRJF4uQTfhAgb1yWBA%3D%3D--KOz3q3kW4LhWvonm--DZEkwx3H99TPPxooaHiAkA%3D%3D; Path=/; HttpOnly; Secure; SameSite=Lax, _octo=GH1.1.422151046.1665671382; Path=/; Domain=github.com; Expires=Fri, 13 Oct 2023 14:29:42 GMT; Secure; SameSite=Lax, logged_in=no; Path=/; Domain=github.com; Expires=Fri, 13 Oct 2023 14:29:42 GMT; HttpOnly; Secure; SameSite=Lax', 'Accept-Ranges': 'bytes', 'Transfer-Encoding': 'chunked', 'X-GitHub-Request-Id': 'F8B8:13287:523DF9B:54C3ECD:634820D6'}"
      ]
     },
     "execution_count": 32,
     "metadata": {},
     "output_type": "execute_result"
    }
   ],
   "source": [
    "res_.headers"
   ]
  },
  {
   "cell_type": "code",
   "execution_count": 33,
   "id": "8bc24d4c-476a-4a26-8d2b-14f144f95f30",
   "metadata": {},
   "outputs": [],
   "source": [
    "html=res_.text"
   ]
  },
  {
   "cell_type": "code",
   "execution_count": null,
   "id": "25644b30-e636-4f44-a518-e1917f3926d7",
   "metadata": {},
   "outputs": [],
   "source": []
  }
 ],
 "metadata": {
  "kernelspec": {
   "display_name": "Python 3 (ipykernel)",
   "language": "python",
   "name": "python3"
  },
  "language_info": {
   "codemirror_mode": {
    "name": "ipython",
    "version": 3
   },
   "file_extension": ".py",
   "mimetype": "text/x-python",
   "name": "python",
   "nbconvert_exporter": "python",
   "pygments_lexer": "ipython3",
   "version": "3.10.7"
  }
 },
 "nbformat": 4,
 "nbformat_minor": 5
}

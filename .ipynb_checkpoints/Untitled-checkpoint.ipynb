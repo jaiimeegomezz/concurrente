{
 "cells": [
  {
   "cell_type": "markdown",
   "id": "9437a53a",
   "metadata": {},
   "source": [
    "<!-- PROFILE LINK -->\n",
    "\n",
    " \n",
    "\n",
    "<h1 style = \"text-align:center; font-size: 30px\">PROGRAMACIÓN CONCURRENTE Y DISTRIBUIDA</h1>\n",
    "\n",
    "<a href =\"https://github.com/jaiimeegomezz\">\n",
    "\n",
    "<img src=\"https://github.com/jaiimeegomezz/concurrente/settings/access?guidance_task=\" style=\"float:left;vertical-align:centre\" width=\"110\" height=\"110\" title = \"Jaime Gomez Gonzalez 22191500\">\n",
    "\n",
    "<a href =\"https://github.com/sukuzhanay?tab=repositories\">\n",
    "\n",
    "<img src=\"https://media-exp1.licdn.com/dms/image/C4D0BAQEu_Aa76fcmPw/company-logo_200_200/0/1630998679429?e=2159024400&v=beta&t=2feC9GG7RWCWizTqsK5HzDWB1TL2DOQuAVwnMf6FFvk\" title = \"M41\" alt=\"UE\" width=\"110\" height=\"110\" style=\"float:right;vertical-align:centre\">\n"
   ]
  },
  {
   "cell_type": "code",
   "execution_count": null,
   "id": "6597dcf3",
   "metadata": {},
   "outputs": [],
   "source": []
  }
 ],
 "metadata": {
  "kernelspec": {
   "display_name": "Python 3 (ipykernel)",
   "language": "python",
   "name": "python3"
  },
  "language_info": {
   "codemirror_mode": {
    "name": "ipython",
    "version": 3
   },
   "file_extension": ".py",
   "mimetype": "text/x-python",
   "name": "python",
   "nbconvert_exporter": "python",
   "pygments_lexer": "ipython3",
   "version": "3.10.7"
  }
 },
 "nbformat": 4,
 "nbformat_minor": 5
}
